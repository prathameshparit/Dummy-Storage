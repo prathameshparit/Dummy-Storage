{
  "nbformat": 4,
  "nbformat_minor": 0,
  "metadata": {
    "colab": {
      "provenance": []
    },
    "kernelspec": {
      "name": "python3",
      "display_name": "Python 3"
    },
    "language_info": {
      "name": "python"
    }
  },
  "cells": [
    {
      "cell_type": "markdown",
      "source": [
        "## 1. Data Wrangling, I\n",
        "Perform the following operations using Python on any open source dataset (e.g., data.csv)\n",
        "1. Import all the required Python Libraries.\n",
        "2. Locate open source data from the web (e.g., https://www.kaggle.com). Provide a clear \n",
        "description of the data and its source (i.e., URL of the web site).\n",
        "3. Load the Dataset into pandas dataframe.\n",
        "4. Data Preprocessing: check for missing values in the data using pandas isnull(), describe() \n",
        "function to get some initial statistics. Provide variable descriptions. Types of variables etc. \n",
        "Check the dimensions of the data frame.\n",
        "5. Data Formatting and Data Normalization: Summarize the types of variables by checking the \n",
        "data types (i.e., character, numeric, integer, factor, and logical) of the variables in the data set. \n",
        "If variables are not in the correct data type, apply proper type conversions.\n",
        "6. Turn categorical variables into quantitative variables in Python.\n",
        "\n",
        "\n",
        "In addition to the codes and outputs, explain every operation that you do in the above steps and explain \n",
        "everything that you do to import/read/scrape the data set."
      ],
      "metadata": {
        "id": "roJVkWqxAluS"
      }
    },
    {
      "cell_type": "code",
      "source": [
        "# 1. Import all the required Python libraries.\n",
        "import pandas as pd\n",
        "import numpy as np\n",
        "import matplotlib.pyplot as plt\n",
        "\n",
        "# 2. Load the dataset into a Pandas dataframe.\n",
        "df = pd.read_csv('https://raw.githubusercontent.com/datasciencedojo/datasets/master/titanic.csv')\n",
        "\n",
        "print(\"_____________________________________________________________________\")\n",
        "\n",
        "# 4. Check for missing values in the data.\n",
        "\n",
        "print(df.isnull().sum())\n",
        "print(df.describe())\n",
        "\n",
        "# Provide variable descriptions.\n",
        "\n",
        "print(\"_____________________________________________________________________\")\n",
        "print(df.columns)\n",
        "print(df.shape)\n",
        "\n",
        "# 5. Summarize the types of variables.\n",
        "\n",
        "print(\"_____________________________________________________________________\")\n",
        "print(df.dtypes)\n",
        "\n",
        "# One-hot encode the 'Sex' column\n",
        "df = pd.get_dummies(df, columns=['Sex'])\n",
        "\n",
        "# One-hot encode the 'Embarked' column\n",
        "df = pd.get_dummies(df, columns=['Embarked'])\n",
        "\n",
        "# Print the first few rows of the DataFrame\n",
        "print(\"_____________________________________________________________________\")\n",
        "print(df.head())"
      ],
      "metadata": {
        "colab": {
          "base_uri": "https://localhost:8080/"
        },
        "id": "E2p5x2bYBDXV",
        "outputId": "a64261b4-1140-4440-90ce-12be7d842a95"
      },
      "execution_count": 57,
      "outputs": [
        {
          "output_type": "stream",
          "name": "stdout",
          "text": [
            "_____________________________________________________________________\n",
            "PassengerId      0\n",
            "Survived         0\n",
            "Pclass           0\n",
            "Name             0\n",
            "Sex              0\n",
            "Age            177\n",
            "SibSp            0\n",
            "Parch            0\n",
            "Ticket           0\n",
            "Fare             0\n",
            "Cabin          687\n",
            "Embarked         2\n",
            "dtype: int64\n",
            "       PassengerId    Survived      Pclass         Age       SibSp  \\\n",
            "count   891.000000  891.000000  891.000000  714.000000  891.000000   \n",
            "mean    446.000000    0.383838    2.308642   29.699118    0.523008   \n",
            "std     257.353842    0.486592    0.836071   14.526497    1.102743   \n",
            "min       1.000000    0.000000    1.000000    0.420000    0.000000   \n",
            "25%     223.500000    0.000000    2.000000   20.125000    0.000000   \n",
            "50%     446.000000    0.000000    3.000000   28.000000    0.000000   \n",
            "75%     668.500000    1.000000    3.000000   38.000000    1.000000   \n",
            "max     891.000000    1.000000    3.000000   80.000000    8.000000   \n",
            "\n",
            "            Parch        Fare  \n",
            "count  891.000000  891.000000  \n",
            "mean     0.381594   32.204208  \n",
            "std      0.806057   49.693429  \n",
            "min      0.000000    0.000000  \n",
            "25%      0.000000    7.910400  \n",
            "50%      0.000000   14.454200  \n",
            "75%      0.000000   31.000000  \n",
            "max      6.000000  512.329200  \n",
            "_____________________________________________________________________\n",
            "Index(['PassengerId', 'Survived', 'Pclass', 'Name', 'Sex', 'Age', 'SibSp',\n",
            "       'Parch', 'Ticket', 'Fare', 'Cabin', 'Embarked'],\n",
            "      dtype='object')\n",
            "(891, 12)\n",
            "_____________________________________________________________________\n",
            "PassengerId      int64\n",
            "Survived         int64\n",
            "Pclass           int64\n",
            "Name            object\n",
            "Sex             object\n",
            "Age            float64\n",
            "SibSp            int64\n",
            "Parch            int64\n",
            "Ticket          object\n",
            "Fare           float64\n",
            "Cabin           object\n",
            "Embarked        object\n",
            "dtype: object\n",
            "_____________________________________________________________________\n",
            "   PassengerId  Survived  Pclass  \\\n",
            "0            1         0       3   \n",
            "1            2         1       1   \n",
            "2            3         1       3   \n",
            "3            4         1       1   \n",
            "4            5         0       3   \n",
            "\n",
            "                                                Name   Age  SibSp  Parch  \\\n",
            "0                            Braund, Mr. Owen Harris  22.0      1      0   \n",
            "1  Cumings, Mrs. John Bradley (Florence Briggs Th...  38.0      1      0   \n",
            "2                             Heikkinen, Miss. Laina  26.0      0      0   \n",
            "3       Futrelle, Mrs. Jacques Heath (Lily May Peel)  35.0      1      0   \n",
            "4                           Allen, Mr. William Henry  35.0      0      0   \n",
            "\n",
            "             Ticket     Fare Cabin  Sex_female  Sex_male  Embarked_C  \\\n",
            "0         A/5 21171   7.2500   NaN           0         1           0   \n",
            "1          PC 17599  71.2833   C85           1         0           1   \n",
            "2  STON/O2. 3101282   7.9250   NaN           1         0           0   \n",
            "3            113803  53.1000  C123           1         0           0   \n",
            "4            373450   8.0500   NaN           0         1           0   \n",
            "\n",
            "   Embarked_Q  Embarked_S  \n",
            "0           0           1  \n",
            "1           0           0  \n",
            "2           0           1  \n",
            "3           0           1  \n",
            "4           0           1  \n"
          ]
        }
      ]
    },
    {
      "cell_type": "markdown",
      "source": [
        "## 2) Data Wrangling II\n",
        "Create an “Academic performance” dataset of students and perform the following operations using \n",
        "Python.\n",
        "1. Scan all variables for missing values and inconsistencies. If there are missing values and/or \n",
        "inconsistencies, use any of the suitable techniques to deal with them.\n",
        "2. Scan all numeric variables for outliers. If there are outliers, use any of the suitable techniques \n",
        "to deal with them.\n",
        "3. Apply data transformations on at least one of the variables. The purpose of this \n",
        "transformation should be one of the following reasons: to change the scale for better \n",
        "understanding of the variable, to convert a non-linear relation into a linear one, or to decrease \n",
        "the skewness and convert the distribution into a normal distribution"
      ],
      "metadata": {
        "id": "swRBBF9XIIu0"
      }
    },
    {
      "cell_type": "code",
      "source": [
        "import pandas as pd\n",
        "import numpy as np\n",
        "\n",
        "# Create a small dataset with null values and outliers\n",
        "data = {'Name': ['Alice', 'Bob', 'Charlie', 'David', 'Emily', 'Frank', 'George', 'Hannah', 'Isabella', 'Jack', 'Hrushikesh'],\n",
        "        'Age': [25, 30, np.nan, 40, 50, 55, 60, 65, np.nan, 75, 2300],\n",
        "        'Grade': [85, 90, 95, 100, 105, 110, 120, np.nan, 135, 140, 2000]}\n",
        "df = pd.DataFrame(data)\n",
        "\n",
        "# Scan all variables for missing values and inconsistencies\n",
        "print(df.isnull().sum())  # Check for null values\n",
        "df['Age'].fillna(df['Age'].mean(), inplace=True)  # Replace null values with mean age\n",
        "print(df)  # Check for inconsistencies\n",
        "print(\"___________________________________________________________________\")\n",
        "\n",
        "# Scan all numeric variables for outliers\n",
        "q1 = df['Grade'].quantile(0.25)\n",
        "q3 = df['Grade'].quantile(0.75)\n",
        "iqr = q3 - q1\n",
        "lower_bound = q1 - 1.5 * iqr\n",
        "upper_bound = q3 + 1.5 * iqr\n",
        "df = df[(df['Grade'] > lower_bound) & (df['Grade'] < upper_bound)]  # Remove outliers\n",
        "print(f\"Upper Bound: {upper_bound}\")\n",
        "print(f\"Lower Bound: {lower_bound}\")\n",
        "print(\"___________________________________________________________________\")\n",
        "\n",
        "# Apply data transformations on at least one of the variables\n",
        "df['Grade_sqrt'] = np.sqrt(df['Grade'])  # Apply square root transformation to Grade variable\n",
        "\n",
        "print(df)  # Print final dataset"
      ],
      "metadata": {
        "colab": {
          "base_uri": "https://localhost:8080/"
        },
        "id": "DXe9y_PvJ73f",
        "outputId": "e2add087-a9a5-4a7c-9f19-538ec675f8b5"
      },
      "execution_count": 78,
      "outputs": [
        {
          "output_type": "stream",
          "name": "stdout",
          "text": [
            "Name     0\n",
            "Age      2\n",
            "Grade    1\n",
            "dtype: int64\n",
            "          Name     Age   Grade\n",
            "0        Alice    25.0    85.0\n",
            "1          Bob    30.0    90.0\n",
            "2      Charlie   300.0    95.0\n",
            "3        David    40.0   100.0\n",
            "4        Emily    50.0   105.0\n",
            "5        Frank    55.0   110.0\n",
            "6       George    60.0   120.0\n",
            "7       Hannah    65.0     NaN\n",
            "8     Isabella   300.0   135.0\n",
            "9         Jack    75.0   140.0\n",
            "10  Hrushikesh  2300.0  2000.0\n",
            "___________________________________________________________________\n",
            "Upper Bound: 183.75\n",
            "Lower Bound: 43.75\n",
            "___________________________________________________________________\n",
            "       Name    Age  Grade  Grade_sqrt\n",
            "0     Alice   25.0   85.0    9.219544\n",
            "1       Bob   30.0   90.0    9.486833\n",
            "2   Charlie  300.0   95.0    9.746794\n",
            "3     David   40.0  100.0   10.000000\n",
            "4     Emily   50.0  105.0   10.246951\n",
            "5     Frank   55.0  110.0   10.488088\n",
            "6    George   60.0  120.0   10.954451\n",
            "8  Isabella  300.0  135.0   11.618950\n",
            "9      Jack   75.0  140.0   11.832160\n"
          ]
        }
      ]
    },
    {
      "cell_type": "markdown",
      "source": [
        "## 3) Descriptive Statistics - Measures of Central Tendency and variability\n",
        "Perform the following operations on any open source dataset (e.g., data.csv)\n",
        "1. Provide summary statistics (mean, median, minimum, maximum, standard deviation) for a dataset (age, income etc.) with numeric variables grouped by one of the qualitative \n",
        "(categorical) variable. For example, if your categorical variable is age groups and quantitative \n",
        "variable is income, then provide summary statistics of income grouped by the age groups. \n",
        "Create a list that contains a numeric value for each response to the categorical variable.\n",
        "2. Write a Python program to display some basic statistical details like percentile, mean, \n",
        "standard deviation etc. of the species of ‘Iris-setosa’, ‘Iris-versicolor’ and ‘Iris-versicolor’ of \n",
        "iris.csv dataset.\n",
        "Provide the codes with outputs and explain everything that you do in this step."
      ],
      "metadata": {
        "id": "8zhqi5hMKphg"
      }
    },
    {
      "cell_type": "code",
      "source": [
        "import pandas as pd\n",
        "\n",
        "# create a sample dataset\n",
        "data = {'age': [25, 30, 35, 40, 45, 50, 55, 60],\n",
        "        'income': [50000, 60000, 70000, 80000, 90000, 100000, 110000, 120000],\n",
        "        'gender': ['M', 'F', 'M', 'F', 'M', 'F', 'M', 'F']}\n",
        "df = pd.DataFrame(data)\n",
        "\n",
        "# calculate summary statistics grouped by gender\n",
        "summary = df.groupby('gender').agg(['mean', 'median', 'min', 'max', 'std'])['income']\n",
        "\n",
        "# create a list of numeric values for each response to the categorical variable\n",
        "categories = df['gender'].unique().tolist()\n",
        "\n",
        "# print the summary statistics and the list of categories\n",
        "print(summary)\n",
        "print(categories)\n"
      ],
      "metadata": {
        "colab": {
          "base_uri": "https://localhost:8080/"
        },
        "id": "vwR91sXbmwrT",
        "outputId": "9ba0c6f5-e3fa-4816-eb75-a90e1eea3163"
      },
      "execution_count": 79,
      "outputs": [
        {
          "output_type": "stream",
          "name": "stdout",
          "text": [
            "           mean   median    min     max           std\n",
            "gender                                               \n",
            "F       90000.0  90000.0  60000  120000  25819.888975\n",
            "M       80000.0  80000.0  50000  110000  25819.888975\n",
            "['M', 'F']\n"
          ]
        }
      ]
    },
    {
      "cell_type": "code",
      "source": [
        "# Q2\n",
        "import pandas as pd\n",
        "\n",
        "# Read the dataset\n",
        "df = pd.read_csv('https://raw.githubusercontent.com/plotly/datasets/master/iris-data.csv')\n",
        "\n",
        "# Group the data by the species column and calculate summary statistics for each group\n",
        "summary_stats = df.groupby('class').describe()\n",
        "\n",
        "# Print the summary statistics for the Iris setosa species\n",
        "print(summary_stats.loc['Iris-setosa'])\n",
        "print(\"____________________________________________________________________\")\n",
        "\n",
        "# Print the summary statistics for the Iris versicolor species\n",
        "print(summary_stats.loc['Iris-versicolor'])\n",
        "print(\"____________________________________________________________________\")\n",
        "\n",
        "# Print the summary statistics for the Iris virginica species\n",
        "print(summary_stats.loc['Iris-virginica'])\n",
        "print(\"____________________________________________________________________\")\n"
      ],
      "metadata": {
        "colab": {
          "base_uri": "https://localhost:8080/"
        },
        "id": "B-i0ZAl4mJyx",
        "outputId": "a888097d-f2ba-4a10-da9b-dd96e9667f54"
      },
      "execution_count": 65,
      "outputs": [
        {
          "output_type": "stream",
          "name": "stdout",
          "text": [
            "sepal length  count    50.000000\n",
            "              mean      5.006000\n",
            "              std       0.352490\n",
            "              min       4.300000\n",
            "              25%       4.800000\n",
            "              50%       5.000000\n",
            "              75%       5.200000\n",
            "              max       5.800000\n",
            "sepal width   count    50.000000\n",
            "              mean      3.418000\n",
            "              std       0.381024\n",
            "              min       2.300000\n",
            "              25%       3.125000\n",
            "              50%       3.400000\n",
            "              75%       3.675000\n",
            "              max       4.400000\n",
            "petal length  count    50.000000\n",
            "              mean      1.464000\n",
            "              std       0.173511\n",
            "              min       1.000000\n",
            "              25%       1.400000\n",
            "              50%       1.500000\n",
            "              75%       1.575000\n",
            "              max       1.900000\n",
            "petal width   count    50.000000\n",
            "              mean      0.244000\n",
            "              std       0.107210\n",
            "              min       0.100000\n",
            "              25%       0.200000\n",
            "              50%       0.200000\n",
            "              75%       0.300000\n",
            "              max       0.600000\n",
            "Name: Iris-setosa, dtype: float64\n",
            "____________________________________________________________________\n",
            "sepal length  count    50.000000\n",
            "              mean      5.936000\n",
            "              std       0.516171\n",
            "              min       4.900000\n",
            "              25%       5.600000\n",
            "              50%       5.900000\n",
            "              75%       6.300000\n",
            "              max       7.000000\n",
            "sepal width   count    50.000000\n",
            "              mean      2.770000\n",
            "              std       0.313798\n",
            "              min       2.000000\n",
            "              25%       2.525000\n",
            "              50%       2.800000\n",
            "              75%       3.000000\n",
            "              max       3.400000\n",
            "petal length  count    50.000000\n",
            "              mean      4.260000\n",
            "              std       0.469911\n",
            "              min       3.000000\n",
            "              25%       4.000000\n",
            "              50%       4.350000\n",
            "              75%       4.600000\n",
            "              max       5.100000\n",
            "petal width   count    50.000000\n",
            "              mean      1.326000\n",
            "              std       0.197753\n",
            "              min       1.000000\n",
            "              25%       1.200000\n",
            "              50%       1.300000\n",
            "              75%       1.500000\n",
            "              max       1.800000\n",
            "Name: Iris-versicolor, dtype: float64\n",
            "____________________________________________________________________\n",
            "sepal length  count    50.000000\n",
            "              mean      6.588000\n",
            "              std       0.635880\n",
            "              min       4.900000\n",
            "              25%       6.225000\n",
            "              50%       6.500000\n",
            "              75%       6.900000\n",
            "              max       7.900000\n",
            "sepal width   count    50.000000\n",
            "              mean      2.974000\n",
            "              std       0.322497\n",
            "              min       2.200000\n",
            "              25%       2.800000\n",
            "              50%       3.000000\n",
            "              75%       3.175000\n",
            "              max       3.800000\n",
            "petal length  count    50.000000\n",
            "              mean      5.552000\n",
            "              std       0.551895\n",
            "              min       4.500000\n",
            "              25%       5.100000\n",
            "              50%       5.550000\n",
            "              75%       5.875000\n",
            "              max       6.900000\n",
            "petal width   count    50.000000\n",
            "              mean      2.026000\n",
            "              std       0.274650\n",
            "              min       1.400000\n",
            "              25%       1.800000\n",
            "              50%       2.000000\n",
            "              75%       2.300000\n",
            "              max       2.500000\n",
            "Name: Iris-virginica, dtype: float64\n",
            "____________________________________________________________________\n"
          ]
        }
      ]
    },
    {
      "cell_type": "markdown",
      "source": [
        "## 4) Data Analytics I\n",
        "Create a Linear Regression Model using Python/R to predict home prices using Boston Housing \n",
        "Dataset (https://www.kaggle.com/c/boston-housing). The Boston Housing dataset contains \n",
        "information about various houses in Boston through different parameters. There are 506 samples and \n",
        "14 feature variables in this dataset.\n",
        "The objective is to predict the value of prices of the house using the given features"
      ],
      "metadata": {
        "id": "sxuTh48gV9vH"
      }
    },
    {
      "cell_type": "code",
      "source": [
        "import numpy as np\n",
        "import pandas as pd  \n",
        "from sklearn.linear_model import LinearRegression\n",
        "from sklearn.model_selection import train_test_split\n",
        "from sklearn.metrics import mean_squared_error, mean_absolute_error\n",
        "\n",
        "boston = pd.read_csv(\"https://raw.githubusercontent.com/selva86/datasets/master/BostonHousing.csv\")\n",
        "\n",
        "X = boston.drop('medv',axis=1)\n",
        "Y = boston['medv']\n",
        "\n",
        "X_train, X_test, Y_train, Y_test = train_test_split(X, Y, test_size = 0.2, random_state=5)\n",
        "\n",
        "regressor = LinearRegression()\n",
        "regressor.fit(X_train, Y_train)\n",
        "y_pred = regressor.predict(X_test)\n",
        "\n",
        "mse = mean_squared_error(Y_test, y_pred)\n",
        "mae = mean_absolute_error(Y_test,y_pred)\n",
        "print(\"Mean Square Error : \", mse)\n",
        "print(\"Mean Absolute Error : \", mae)"
      ],
      "metadata": {
        "colab": {
          "base_uri": "https://localhost:8080/"
        },
        "id": "knnLEIrwV0C4",
        "outputId": "9128801e-02d0-4a76-c39a-b402490f4985"
      },
      "execution_count": 74,
      "outputs": [
        {
          "output_type": "stream",
          "name": "stdout",
          "text": [
            "Mean Square Error :  20.869292183770686\n",
            "Mean Absolute Error :  3.2132704958423735\n"
          ]
        }
      ]
    },
    {
      "cell_type": "markdown",
      "source": [
        "## 5) Data Analytics II\n",
        "1. Implement logistic regression using Python/R to perform classification on \n",
        "Social_Network_Ads.csv dataset.\n",
        "2. Compute Confusion matrix to find TP, FP, TN, FN, Accuracy, Error rate, Precision, Recall\n",
        "on the given dataset.\n"
      ],
      "metadata": {
        "id": "Xl9w0k4go9hK"
      }
    },
    {
      "cell_type": "code",
      "source": [
        "import pandas as pd\n",
        "import numpy as np\n",
        "import matplotlib.pyplot as plt\n",
        "from sklearn.model_selection import train_test_split\n",
        "from sklearn.preprocessing import StandardScaler\n",
        "from sklearn.metrics import confusion_matrix\n",
        "from sklearn.metrics import accuracy_score\n",
        "from sklearn.linear_model import LogisticRegression\n",
        "\n",
        "dataset = pd.read_csv(\"https://raw.githubusercontent.com/shivang98/Social-Network-ads-Boost/master/Social_Network_Ads.csv\")\n",
        "\n",
        "x = dataset.iloc[:, [2, 3]].values\n",
        "y = dataset.iloc[:, 4].values\n",
        "  \n",
        "xtrain, xtest, ytrain, ytest = train_test_split(x, y, test_size=0.25, random_state=0)\n",
        "\n",
        "sc_x = StandardScaler()\n",
        "xtrain = sc_x.fit_transform(xtrain)\n",
        "xtest = sc_x.transform(xtest)\n",
        "  \n",
        "classifier = LogisticRegression(random_state = 0)\n",
        "classifier.fit(xtrain, ytrain)\n",
        "\n",
        "y_pred = classifier.predict(xtest)\n",
        "cm = confusion_matrix(ytest, y_pred)\n",
        "print (\"Confusion Matrix : \\n\", cm)\n",
        "\n",
        "print (\"Accuracy : \", accuracy_score(ytest, y_pred))"
      ],
      "metadata": {
        "colab": {
          "base_uri": "https://localhost:8080/"
        },
        "id": "GiOqnUQyYm52",
        "outputId": "2b1002d5-433b-4e9f-ef25-502563c46cea"
      },
      "execution_count": 34,
      "outputs": [
        {
          "output_type": "stream",
          "name": "stdout",
          "text": [
            "Confusion Matrix : \n",
            " [[65  3]\n",
            " [ 8 24]]\n",
            "Accuracy :  0.89\n"
          ]
        }
      ]
    },
    {
      "cell_type": "markdown",
      "source": [
        "## 6) Data Analytics III\n",
        "1. Implement Simple Naïve Bayes classification algorithm using Python/R on iris.csv dataset.\n",
        "2. Compute Confusion matrix to find TP, FP, TN, FN, Accuracy, Error rate, Precision, Recall on \n",
        "the given dataset.\n"
      ],
      "metadata": {
        "id": "Num7FjjueZ07"
      }
    },
    {
      "cell_type": "code",
      "source": [
        "#Metrics\n",
        "from sklearn.metrics import make_scorer, accuracy_score,precision_score\n",
        "from sklearn.metrics import classification_report\n",
        "from sklearn.metrics import confusion_matrix\n",
        "from sklearn.preprocessing import LabelEncoder\n",
        "from sklearn.metrics import accuracy_score ,precision_score,recall_score,f1_score\n",
        "from sklearn.model_selection import train_test_split\n",
        "from sklearn.naive_bayes import GaussianNB\n",
        "\n",
        "iris=pd.read_csv('https://raw.githubusercontent.com/plotly/datasets/master/iris-data.csv')\n",
        "\n",
        "X=iris.iloc[:,0:4].values\n",
        "y=iris.iloc[:,4].values\n",
        "\n",
        "le = LabelEncoder()\n",
        "y = le.fit_transform(y)\n",
        "\n",
        "X_train,X_test,y_train,y_test=train_test_split(X,y,test_size=0.3,random_state=0)\n",
        "\n",
        "gaussian = GaussianNB()\n",
        "gaussian.fit(X_train, y_train)\n",
        "Y_pred = gaussian.predict(X_test) \n",
        "\n",
        "cm = confusion_matrix(y_test, Y_pred)\n",
        "accuracy = accuracy_score(y_test,Y_pred)\n",
        "precision =precision_score(y_test, Y_pred,average='micro')\n",
        "recall =  recall_score(y_test, Y_pred,average='micro')\n",
        "f1 = f1_score(y_test,Y_pred,average='micro')\n",
        "print('Confusion matrix for Naive Bayes\\n',cm)\n",
        "print('accuracy_Naive Bayes: %.3f' %accuracy)\n",
        "print('precision_Naive Bayes: %.3f' %precision)\n",
        "print('recall_Naive Bayes: %.3f' %recall)\n",
        "print('f1-score_Naive Bayes : %.3f' %f1)"
      ],
      "metadata": {
        "colab": {
          "base_uri": "https://localhost:8080/"
        },
        "id": "fwww51YbeYXF",
        "outputId": "e67b5623-f169-4a8a-8a61-be5889caddd3"
      },
      "execution_count": 73,
      "outputs": [
        {
          "output_type": "stream",
          "name": "stdout",
          "text": [
            "Confusion matrix for Naive Bayes\n",
            " [[16  0  0]\n",
            " [ 0 18  0]\n",
            " [ 0  0 11]]\n",
            "accuracy_Naive Bayes: 1.000\n",
            "precision_Naive Bayes: 1.000\n",
            "recall_Naive Bayes: 1.000\n",
            "f1-score_Naive Bayes : 1.000\n"
          ]
        }
      ]
    },
    {
      "cell_type": "markdown",
      "source": [
        "## 7) Text Analytics\n",
        "1. Extract Sample document and apply following document preprocessing methods: \n",
        "Tokenization, POS Tagging, stop words removal, Stemming and Lemmatization.\n",
        "2. Create representation of documents by calculating Term Frequency and Inverse \n",
        "DocumentFrequency."
      ],
      "metadata": {
        "id": "exxc44MNe4ag"
      }
    },
    {
      "cell_type": "code",
      "source": [
        "import nltk\n",
        "from nltk.corpus import stopwords\n",
        "from nltk.stem import PorterStemmer\n",
        "from nltk.tokenize import word_tokenize\n",
        "from nltk.tag import pos_tag\n",
        "from nltk.stem import WordNetLemmatizer\n",
        "import math\n",
        "from collections import Counter\n",
        "nltk.download('punkt')\n",
        "nltk.download('averaged_perceptron_tagger')\n",
        "nltk.download('stopwords')\n",
        "nltk.download('wordnet')\n",
        "\n",
        "# Sample text\n",
        "text = \"The quick brown fox jumps over the lazy dog.\"\n",
        "\n",
        "# Tokenization\n",
        "tokens = word_tokenize(text)\n",
        "print(\"Tokens:\", tokens)\n",
        "\n",
        "# POS Tagging\n",
        "pos_tags = pos_tag(tokens)\n",
        "print(\"POS Tags:\", pos_tags)\n",
        "\n",
        "# Stop Words Removal\n",
        "stop_words = set(stopwords.words('english'))\n",
        "tokens_without_stop_words = [token for token in tokens if token not in stop_words]\n",
        "print(\"Tokens without Stop Words:\", tokens_without_stop_words)\n",
        "\n",
        "# Stemming\n",
        "stemmer = PorterStemmer()\n",
        "stemmed_tokens = [stemmer.stem(token) for token in tokens]\n",
        "print(\"Stemmed Tokens:\", stemmed_tokens)\n",
        "\n",
        "# Lemmatization\n",
        "lemmatizer = WordNetLemmatizer()\n",
        "lemmatized_tokens = [lemmatizer.lemmatize(token) for token in tokens]\n",
        "print(\"Lemmatized Tokens:\", lemmatized_tokens)\n",
        "\n",
        "\n",
        "# Calculate the term frequency (TF) of a term in a document\n",
        "def tf(term, document):\n",
        "    return document.count(term) / len(document)\n",
        "\n",
        "# Calculate the inverse document frequency (IDF) of a term in a corpus of documents\n",
        "def idf(term, corpus):\n",
        "    n = len(corpus)\n",
        "    df = sum(1 for document in corpus if term in document)\n",
        "    return math.log(n / df)\n",
        "\n",
        "# Calculate the TF-IDF score of a term in a document\n",
        "def tf_idf(term, document, corpus):\n",
        "    return tf(term, document) * idf(term, corpus)\n",
        "\n",
        "# Calculate the TF-IDF score for all terms in a document\n",
        "def tf_idf_all(document, corpus):\n",
        "    tf_idf_scores = Counter()\n",
        "    for term in document:\n",
        "        tf_idf_scores[term] = tf_idf(term, document, corpus)\n",
        "    return tf_idf_scores\n",
        "\n",
        "corpus = [\n",
        "    [\"this\", \"is\", \"document\", \"one\"],\n",
        "    [\"this\", \"is\", \"document\", \"two\"],\n",
        "    [\"this\", \"is\", \"document\", \"three\"],\n",
        "    [\"this\", \"is\", \"document\", \"four\"],\n",
        "    [\"this\", \"is\", \"document\", \"five\"]\n",
        "]\n",
        "\n",
        "document = [\"this\", \"is\", \"document\", \"one\"]\n",
        "tf_idf_scores = tf_idf_all(document, corpus)\n",
        "print(\"TF-IDF Scores for Document One:\", tf_idf_scores)\n"
      ],
      "metadata": {
        "colab": {
          "base_uri": "https://localhost:8080/"
        },
        "id": "UxXrehzqgG3z",
        "outputId": "096e7b5a-f9e4-48f0-d880-58642444734c"
      },
      "execution_count": 80,
      "outputs": [
        {
          "output_type": "stream",
          "name": "stdout",
          "text": [
            "Tokens: ['The', 'quick', 'brown', 'fox', 'jumps', 'over', 'the', 'lazy', 'dog', '.']\n",
            "POS Tags: [('The', 'DT'), ('quick', 'JJ'), ('brown', 'NN'), ('fox', 'NN'), ('jumps', 'VBZ'), ('over', 'IN'), ('the', 'DT'), ('lazy', 'JJ'), ('dog', 'NN'), ('.', '.')]\n",
            "Tokens without Stop Words: ['The', 'quick', 'brown', 'fox', 'jumps', 'lazy', 'dog', '.']\n",
            "Stemmed Tokens: ['the', 'quick', 'brown', 'fox', 'jump', 'over', 'the', 'lazi', 'dog', '.']\n",
            "Lemmatized Tokens: ['The', 'quick', 'brown', 'fox', 'jump', 'over', 'the', 'lazy', 'dog', '.']\n",
            "TF-IDF Scores for Document One: Counter({'one': 0.40235947810852507, 'this': 0.0, 'is': 0.0, 'document': 0.0})\n"
          ]
        },
        {
          "output_type": "stream",
          "name": "stderr",
          "text": [
            "[nltk_data] Downloading package punkt to /root/nltk_data...\n",
            "[nltk_data]   Package punkt is already up-to-date!\n",
            "[nltk_data] Downloading package averaged_perceptron_tagger to\n",
            "[nltk_data]     /root/nltk_data...\n",
            "[nltk_data]   Package averaged_perceptron_tagger is already up-to-\n",
            "[nltk_data]       date!\n",
            "[nltk_data] Downloading package stopwords to /root/nltk_data...\n",
            "[nltk_data]   Package stopwords is already up-to-date!\n",
            "[nltk_data] Downloading package wordnet to /root/nltk_data...\n",
            "[nltk_data]   Package wordnet is already up-to-date!\n"
          ]
        }
      ]
    },
    {
      "cell_type": "markdown",
      "source": [
        "## 8) Data Visualization I\n",
        "1. Use the inbuilt dataset 'titanic'. The dataset contains 891 rows and contains information about \n",
        "the passengers who boarded the unfortunate Titanic ship. Use the Seaborn library to see if we \n",
        "can find any patterns in the data.\n",
        "2. Write a code to check how the price of the ticket (column name: 'fare') for each passenger\n",
        "is distributed by plotting a histogram."
      ],
      "metadata": {
        "id": "DxAp_Cs7gSJE"
      }
    },
    {
      "cell_type": "code",
      "source": [
        "import pandas as pd \n",
        "import numpy as np \n",
        "import matplotlib.pyplot as plt\n",
        "import seaborn as sns\n",
        "dataset = sns.load_dataset('titanic')\n",
        "dataset.head()\n",
        "sns.barplot(x='sex',y='age',data=dataset)\n",
        "sns.catplot(x='sex',hue='survived',kind='count',data=dataset)\n",
        "sns.histplot(data=dataset ,x='fare')\n",
        "sns.histplot(data=dataset ,x='fare',binwidth=30)\n",
        "sns.lineplot(data=dataset,x='sex',y='age')"
      ],
      "metadata": {
        "colab": {
          "base_uri": "https://localhost:8080/",
          "height": 955
        },
        "id": "XYpz0f7ghEhr",
        "outputId": "70baca5d-face-4ace-b7a0-2131a6be9997"
      },
      "execution_count": 48,
      "outputs": [
        {
          "output_type": "execute_result",
          "data": {
            "text/plain": [
              "<Axes: xlabel='sex', ylabel='count'>"
            ]
          },
          "metadata": {},
          "execution_count": 48
        },
        {
          "output_type": "display_data",
          "data": {
            "text/plain": [
              "<Figure size 640x480 with 1 Axes>"
            ],
            "image/png": "[encoded data removed]"
          },
          "metadata": {}
        },
        {
          "output_type": "display_data",
          "data": {
            "text/plain": [
              "<Figure size 570.486x500 with 1 Axes>"
            ],
            "image/png": "[encoded data removed]"
          },
          "metadata": {}
        }
      ]
    },
    {
      "cell_type": "markdown",
      "source": [
        "## 9) Data Visualization II\n",
        "1. Use the inbuilt dataset 'titanic' as used in the above problem. Plot a box plot for distribution of \n",
        "age with respect to each gender along with the information about whether they survived or \n",
        "not. (Column names : 'sex' and 'age')\n",
        "2. Write observations on the inference from the above statistics"
      ],
      "metadata": {
        "id": "-NYHe9tUhzeb"
      }
    },
    {
      "cell_type": "code",
      "source": [
        "import pandas as pd \n",
        "import numpy as np \n",
        "import matplotlib.pyplot as plt\n",
        "import seaborn as sns\n",
        "dataset = sns.load_dataset('titanic')\n",
        "dataset.head()\n",
        "sns.barplot(data=dataset,x='sex',y='age')\n",
        "sns.boxenplot(data=dataset,x='sex',y='age')\n",
        "sns.boxplot(data=dataset,x='sex',y='age')\n",
        "plt.figure(figsize=(8,10))\n",
        "sns.boxplot(data=dataset,x='sex',y='age',hue='survived')\n",
        "plt.show()\n"
      ],
      "metadata": {
        "colab": {
          "base_uri": "https://localhost:8080/",
          "height": 1000
        },
        "id": "x1qIBTDthioh",
        "outputId": "6d35baa1-7688-4ee5-e9c2-2c2861f413ae"
      },
      "execution_count": 50,
      "outputs": [
        {
          "output_type": "display_data",
          "data": {
            "text/plain": [
              "<Figure size 640x480 with 1 Axes>"
            ],
            "image/png": "[encoded data removed]"
          },
          "metadata": {}
        },
        {
          "output_type": "display_data",
          "data": {
            "text/plain": [
              "<Figure size 800x1000 with 1 Axes>"
            ],
            "image/png": "[encoded data removed]"
          },
          "metadata": {}
        }
      ]
    },
    {
      "cell_type": "markdown",
      "source": [
        "## 10) Data Visualization III\n",
        "Download the Iris flower dataset or any other dataset into a DataFrame. (e.g., \n",
        "https://archive.ics.uci.edu/ml/datasets/Iris ). Scan the dataset and give the inference as:\n",
        "1. List down the features and their types (e.g., numeric, nominal) available in the dataset.\n",
        "2. Create a histogram for each feature in the dataset to illustrate the feature distributions.\n",
        "3. Create a boxplot for each feature in the dataset.\n",
        "4. Compare distributions and identify outliers."
      ],
      "metadata": {
        "id": "1Be1MOGthxMl"
      }
    },
    {
      "cell_type": "code",
      "source": [
        "import pandas as pd \n",
        "import numpy as np \n",
        "import matplotlib.pyplot as plt\n",
        "import seaborn as sns\n",
        "df = pd.read_csv('https://raw.githubusercontent.com/plotly/datasets/master/iris-data.csv')\n",
        "df.head()\n",
        "df.hist(figsize=(10,10))\n",
        "import plotly.express as px\n",
        "px.box(df ,x='sepal length',y='petal length' )"
      ],
      "metadata": {
        "colab": {
          "base_uri": "https://localhost:8080/",
          "height": 1000
        },
        "id": "XJTkJIDqiATy",
        "outputId": "42d92b51-1e79-42c3-84b6-091bdf52ebd6"
      },
      "execution_count": 53,
      "outputs": [
        {
          "output_type": "display_data",
          "data": {
            "text/html": [
              "<html>\n",
              "<head><meta charset=\"utf-8\" /></head>\n",
              "<body>\n",
              "    <div>            <script src=\"https://cdnjs.cloudflare.com/ajax/libs/mathjax/2.7.5/MathJax.js?config=TeX-AMS-MML_SVG\"></script><script type=\"text/javascript\">if (window.MathJax && window.MathJax.Hub && window.MathJax.Hub.Config) {window.MathJax.Hub.Config({SVG: {font: \"STIX-Web\"}});}</script>                <script type=\"text/javascript\">window.PlotlyConfig = {MathJaxConfig: 'local'};</script>\n",
              "        <script src=\"https://cdn.plot.ly/plotly-2.18.2.min.js\"></script>                <div id=\"b293bf3c-a070-48ce-afdc-35a69b171ece\" class=\"plotly-graph-div\" style=\"height:525px; width:100%;\"></div>            <script type=\"text/javascript\">                                    window.PLOTLYENV=window.PLOTLYENV || {};                                    if (document.getElementById(\"b293bf3c-a070-48ce-afdc-35a69b171ece\")) {                    Plotly.newPlot(                        \"b293bf3c-a070-48ce-afdc-35a69b171ece\",                        [{\"alignmentgroup\":\"True\",\"hovertemplate\":\"sepal length=%{x}<br>petal length=%{y}<extra></extra>\",\"legendgroup\":\"\",\"marker\":{\"color\":\"#636efa\"},\"name\":\"\",\"notched\":false,\"offsetgroup\":\"\",\"orientation\":\"v\",\"showlegend\":false,\"x\":[5.1,4.9,4.7,4.6,5.0,5.4,4.6,5.0,4.4,4.9,5.4,4.8,4.8,4.3,5.8,5.7,5.4,5.1,5.7,5.1,5.4,5.1,4.6,5.1,4.8,5.0,5.0,5.2,5.2,4.7,4.8,5.4,5.2,5.5,4.9,5.0,5.5,4.9,4.4,5.1,5.0,4.5,4.4,5.0,5.1,4.8,5.1,4.6,5.3,5.0,7.0,6.4,6.9,5.5,6.5,5.7,6.3,4.9,6.6,5.2,5.0,5.9,6.0,6.1,5.6,6.7,5.6,5.8,6.2,5.6,5.9,6.1,6.3,6.1,6.4,6.6,6.8,6.7,6.0,5.7,5.5,5.5,5.8,6.0,5.4,6.0,6.7,6.3,5.6,5.5,5.5,6.1,5.8,5.0,5.6,5.7,5.7,6.2,5.1,5.7,6.3,5.8,7.1,6.3,6.5,7.6,4.9,7.3,6.7,7.2,6.5,6.4,6.8,5.7,5.8,6.4,6.5,7.7,7.7,6.0,6.9,5.6,7.7,6.3,6.7,7.2,6.2,6.1,6.4,7.2,7.4,7.9,6.4,6.3,6.1,7.7,6.3,6.4,6.0,6.9,6.7,6.9,5.8,6.8,6.7,6.7,6.3,6.5,6.2,5.9],\"x0\":\" \",\"xaxis\":\"x\",\"y\":[1.4,1.4,1.3,1.5,1.4,1.7,1.4,1.5,1.4,1.5,1.5,1.6,1.4,1.1,1.2,1.5,1.3,1.4,1.7,1.5,1.7,1.5,1.0,1.7,1.9,1.6,1.6,1.5,1.4,1.6,1.6,1.5,1.5,1.4,1.5,1.2,1.3,1.5,1.3,1.5,1.3,1.3,1.3,1.6,1.9,1.4,1.6,1.4,1.5,1.4,4.7,4.5,4.9,4.0,4.6,4.5,4.7,3.3,4.6,3.9,3.5,4.2,4.0,4.7,3.6,4.4,4.5,4.1,4.5,3.9,4.8,4.0,4.9,4.7,4.3,4.4,4.8,5.0,4.5,3.5,3.8,3.7,3.9,5.1,4.5,4.5,4.7,4.4,4.1,4.0,4.4,4.6,4.0,3.3,4.2,4.2,4.2,4.3,3.0,4.1,6.0,5.1,5.9,5.6,5.8,6.6,4.5,6.3,5.8,6.1,5.1,5.3,5.5,5.0,5.1,5.3,5.5,6.7,6.9,5.0,5.7,4.9,6.7,4.9,5.7,6.0,4.8,4.9,5.6,5.8,6.1,6.4,5.6,5.1,5.6,6.1,5.6,5.5,4.8,5.4,5.6,5.1,5.1,5.9,5.7,5.2,5.0,5.2,5.4,5.1],\"y0\":\" \",\"yaxis\":\"y\",\"type\":\"box\"}],                        {\"template\":{\"data\":{\"histogram2dcontour\":[{\"type\":\"histogram2dcontour\",\"colorbar\":{\"outlinewidth\":0,\"ticks\":\"\"},\"colorscale\":[[0.0,\"#0d0887\"],[0.1111111111111111,\"#46039f\"],[0.2222222222222222,\"#7201a8\"],[0.3333333333333333,\"#9c179e\"],[0.4444444444444444,\"#bd3786\"],[0.5555555555555556,\"#d8576b\"],[0.6666666666666666,\"#ed7953\"],[0.7777777777777778,\"#fb9f3a\"],[0.8888888888888888,\"#fdca26\"],[1.0,\"#f0f921\"]]}],\"choropleth\":[{\"type\":\"choropleth\",\"colorbar\":{\"outlinewidth\":0,\"ticks\":\"\"}}],\"histogram2d\":[{\"type\":\"histogram2d\",\"colorbar\":{\"outlinewidth\":0,\"ticks\":\"\"},\"colorscale\":[[0.0,\"#0d0887\"],[0.1111111111111111,\"#46039f\"],[0.2222222222222222,\"#7201a8\"],[0.3333333333333333,\"#9c179e\"],[0.4444444444444444,\"#bd3786\"],[0.5555555555555556,\"#d8576b\"],[0.6666666666666666,\"#ed7953\"],[0.7777777777777778,\"#fb9f3a\"],[0.8888888888888888,\"#fdca26\"],[1.0,\"#f0f921\"]]}],\"heatmap\":[{\"type\":\"heatmap\",\"colorbar\":{\"outlinewidth\":0,\"ticks\":\"\"},\"colorscale\":[[0.0,\"#0d0887\"],[0.1111111111111111,\"#46039f\"],[0.2222222222222222,\"#7201a8\"],[0.3333333333333333,\"#9c179e\"],[0.4444444444444444,\"#bd3786\"],[0.5555555555555556,\"#d8576b\"],[0.6666666666666666,\"#ed7953\"],[0.7777777777777778,\"#fb9f3a\"],[0.8888888888888888,\"#fdca26\"],[1.0,\"#f0f921\"]]}],\"heatmapgl\":[{\"type\":\"heatmapgl\",\"colorbar\":{\"outlinewidth\":0,\"ticks\":\"\"},\"colorscale\":[[0.0,\"#0d0887\"],[0.1111111111111111,\"#46039f\"],[0.2222222222222222,\"#7201a8\"],[0.3333333333333333,\"#9c179e\"],[0.4444444444444444,\"#bd3786\"],[0.5555555555555556,\"#d8576b\"],[0.6666666666666666,\"#ed7953\"],[0.7777777777777778,\"#fb9f3a\"],[0.8888888888888888,\"#fdca26\"],[1.0,\"#f0f921\"]]}],\"contourcarpet\":[{\"type\":\"contourcarpet\",\"colorbar\":{\"outlinewidth\":0,\"ticks\":\"\"}}],\"contour\":[{\"type\":\"contour\",\"colorbar\":{\"outlinewidth\":0,\"ticks\":\"\"},\"colorscale\":[[0.0,\"#0d0887\"],[0.1111111111111111,\"#46039f\"],[0.2222222222222222,\"#7201a8\"],[0.3333333333333333,\"#9c179e\"],[0.4444444444444444,\"#bd3786\"],[0.5555555555555556,\"#d8576b\"],[0.6666666666666666,\"#ed7953\"],[0.7777777777777778,\"#fb9f3a\"],[0.8888888888888888,\"#fdca26\"],[1.0,\"#f0f921\"]]}],\"surface\":[{\"type\":\"surface\",\"colorbar\":{\"outlinewidth\":0,\"ticks\":\"\"},\"colorscale\":[[0.0,\"#0d0887\"],[0.1111111111111111,\"#46039f\"],[0.2222222222222222,\"#7201a8\"],[0.3333333333333333,\"#9c179e\"],[0.4444444444444444,\"#bd3786\"],[0.5555555555555556,\"#d8576b\"],[0.6666666666666666,\"#ed7953\"],[0.7777777777777778,\"#fb9f3a\"],[0.8888888888888888,\"#fdca26\"],[1.0,\"#f0f921\"]]}],\"mesh3d\":[{\"type\":\"mesh3d\",\"colorbar\":{\"outlinewidth\":0,\"ticks\":\"\"}}],\"scatter\":[{\"fillpattern\":{\"fillmode\":\"overlay\",\"size\":10,\"solidity\":0.2},\"type\":\"scatter\"}],\"parcoords\":[{\"type\":\"parcoords\",\"line\":{\"colorbar\":{\"outlinewidth\":0,\"ticks\":\"\"}}}],\"scatterpolargl\":[{\"type\":\"scatterpolargl\",\"marker\":{\"colorbar\":{\"outlinewidth\":0,\"ticks\":\"\"}}}],\"bar\":[{\"error_x\":{\"color\":\"#2a3f5f\"},\"error_y\":{\"color\":\"#2a3f5f\"},\"marker\":{\"line\":{\"color\":\"#E5ECF6\",\"width\":0.5},\"pattern\":{\"fillmode\":\"overlay\",\"size\":10,\"solidity\":0.2}},\"type\":\"bar\"}],\"scattergeo\":[{\"type\":\"scattergeo\",\"marker\":{\"colorbar\":{\"outlinewidth\":0,\"ticks\":\"\"}}}],\"scatterpolar\":[{\"type\":\"scatterpolar\",\"marker\":{\"colorbar\":{\"outlinewidth\":0,\"ticks\":\"\"}}}],\"histogram\":[{\"marker\":{\"pattern\":{\"fillmode\":\"overlay\",\"size\":10,\"solidity\":0.2}},\"type\":\"histogram\"}],\"scattergl\":[{\"type\":\"scattergl\",\"marker\":{\"colorbar\":{\"outlinewidth\":0,\"ticks\":\"\"}}}],\"scatter3d\":[{\"type\":\"scatter3d\",\"line\":{\"colorbar\":{\"outlinewidth\":0,\"ticks\":\"\"}},\"marker\":{\"colorbar\":{\"outlinewidth\":0,\"ticks\":\"\"}}}],\"scattermapbox\":[{\"type\":\"scattermapbox\",\"marker\":{\"colorbar\":{\"outlinewidth\":0,\"ticks\":\"\"}}}],\"scatterternary\":[{\"type\":\"scatterternary\",\"marker\":{\"colorbar\":{\"outlinewidth\":0,\"ticks\":\"\"}}}],\"scattercarpet\":[{\"type\":\"scattercarpet\",\"marker\":{\"colorbar\":{\"outlinewidth\":0,\"ticks\":\"\"}}}],\"carpet\":[{\"aaxis\":{\"endlinecolor\":\"#2a3f5f\",\"gridcolor\":\"white\",\"linecolor\":\"white\",\"minorgridcolor\":\"white\",\"startlinecolor\":\"#2a3f5f\"},\"baxis\":{\"endlinecolor\":\"#2a3f5f\",\"gridcolor\":\"white\",\"linecolor\":\"white\",\"minorgridcolor\":\"white\",\"startlinecolor\":\"#2a3f5f\"},\"type\":\"carpet\"}],\"table\":[{\"cells\":{\"fill\":{\"color\":\"#EBF0F8\"},\"line\":{\"color\":\"white\"}},\"header\":{\"fill\":{\"color\":\"#C8D4E3\"},\"line\":{\"color\":\"white\"}},\"type\":\"table\"}],\"barpolar\":[{\"marker\":{\"line\":{\"color\":\"#E5ECF6\",\"width\":0.5},\"pattern\":{\"fillmode\":\"overlay\",\"size\":10,\"solidity\":0.2}},\"type\":\"barpolar\"}],\"pie\":[{\"automargin\":true,\"type\":\"pie\"}]},\"layout\":{\"autotypenumbers\":\"strict\",\"colorway\":[\"#636efa\",\"#EF553B\",\"#00cc96\",\"#ab63fa\",\"#FFA15A\",\"#19d3f3\",\"#FF6692\",\"#B6E880\",\"#FF97FF\",\"#FECB52\"],\"font\":{\"color\":\"#2a3f5f\"},\"hovermode\":\"closest\",\"hoverlabel\":{\"align\":\"left\"},\"paper_bgcolor\":\"white\",\"plot_bgcolor\":\"#E5ECF6\",\"polar\":{\"bgcolor\":\"#E5ECF6\",\"angularaxis\":{\"gridcolor\":\"white\",\"linecolor\":\"white\",\"ticks\":\"\"},\"radialaxis\":{\"gridcolor\":\"white\",\"linecolor\":\"white\",\"ticks\":\"\"}},\"ternary\":{\"bgcolor\":\"#E5ECF6\",\"aaxis\":{\"gridcolor\":\"white\",\"linecolor\":\"white\",\"ticks\":\"\"},\"baxis\":{\"gridcolor\":\"white\",\"linecolor\":\"white\",\"ticks\":\"\"},\"caxis\":{\"gridcolor\":\"white\",\"linecolor\":\"white\",\"ticks\":\"\"}},\"coloraxis\":{\"colorbar\":{\"outlinewidth\":0,\"ticks\":\"\"}},\"colorscale\":{\"sequential\":[[0.0,\"#0d0887\"],[0.1111111111111111,\"#46039f\"],[0.2222222222222222,\"#7201a8\"],[0.3333333333333333,\"#9c179e\"],[0.4444444444444444,\"#bd3786\"],[0.5555555555555556,\"#d8576b\"],[0.6666666666666666,\"#ed7953\"],[0.7777777777777778,\"#fb9f3a\"],[0.8888888888888888,\"#fdca26\"],[1.0,\"#f0f921\"]],\"sequentialminus\":[[0.0,\"#0d0887\"],[0.1111111111111111,\"#46039f\"],[0.2222222222222222,\"#7201a8\"],[0.3333333333333333,\"#9c179e\"],[0.4444444444444444,\"#bd3786\"],[0.5555555555555556,\"#d8576b\"],[0.6666666666666666,\"#ed7953\"],[0.7777777777777778,\"#fb9f3a\"],[0.8888888888888888,\"#fdca26\"],[1.0,\"#f0f921\"]],\"diverging\":[[0,\"#8e0152\"],[0.1,\"#c51b7d\"],[0.2,\"#de77ae\"],[0.3,\"#f1b6da\"],[0.4,\"#fde0ef\"],[0.5,\"#f7f7f7\"],[0.6,\"#e6f5d0\"],[0.7,\"#b8e186\"],[0.8,\"#7fbc41\"],[0.9,\"#4d9221\"],[1,\"#276419\"]]},\"xaxis\":{\"gridcolor\":\"white\",\"linecolor\":\"white\",\"ticks\":\"\",\"title\":{\"standoff\":15},\"zerolinecolor\":\"white\",\"automargin\":true,\"zerolinewidth\":2},\"yaxis\":{\"gridcolor\":\"white\",\"linecolor\":\"white\",\"ticks\":\"\",\"title\":{\"standoff\":15},\"zerolinecolor\":\"white\",\"automargin\":true,\"zerolinewidth\":2},\"scene\":{\"xaxis\":{\"backgroundcolor\":\"#E5ECF6\",\"gridcolor\":\"white\",\"linecolor\":\"white\",\"showbackground\":true,\"ticks\":\"\",\"zerolinecolor\":\"white\",\"gridwidth\":2},\"yaxis\":{\"backgroundcolor\":\"#E5ECF6\",\"gridcolor\":\"white\",\"linecolor\":\"white\",\"showbackground\":true,\"ticks\":\"\",\"zerolinecolor\":\"white\",\"gridwidth\":2},\"zaxis\":{\"backgroundcolor\":\"#E5ECF6\",\"gridcolor\":\"white\",\"linecolor\":\"white\",\"showbackground\":true,\"ticks\":\"\",\"zerolinecolor\":\"white\",\"gridwidth\":2}},\"shapedefaults\":{\"line\":{\"color\":\"#2a3f5f\"}},\"annotationdefaults\":{\"arrowcolor\":\"#2a3f5f\",\"arrowhead\":0,\"arrowwidth\":1},\"geo\":{\"bgcolor\":\"white\",\"landcolor\":\"#E5ECF6\",\"subunitcolor\":\"white\",\"showland\":true,\"showlakes\":true,\"lakecolor\":\"white\"},\"title\":{\"x\":0.05},\"mapbox\":{\"style\":\"light\"}}},\"xaxis\":{\"anchor\":\"y\",\"domain\":[0.0,1.0],\"title\":{\"text\":\"sepal length\"}},\"yaxis\":{\"anchor\":\"x\",\"domain\":[0.0,1.0],\"title\":{\"text\":\"petal length\"}},\"legend\":{\"tracegroupgap\":0},\"margin\":{\"t\":60},\"boxmode\":\"group\"},                        {\"responsive\": true}                    ).then(function(){\n",
              "                            \n",
              "var gd = document.getElementById('b293bf3c-a070-48ce-afdc-35a69b171ece');\n",
              "var x = new MutationObserver(function (mutations, observer) {{\n",
              "        var display = window.getComputedStyle(gd).display;\n",
              "        if (!display || display === 'none') {{\n",
              "            console.log([gd, 'removed!']);\n",
              "            Plotly.purge(gd);\n",
              "            observer.disconnect();\n",
              "        }}\n",
              "}});\n",
              "\n",
              "// Listen for the removal of the full notebook cells\n",
              "var notebookContainer = gd.closest('#notebook-container');\n",
              "if (notebookContainer) {{\n",
              "    x.observe(notebookContainer, {childList: true});\n",
              "}}\n",
              "\n",
              "// Listen for the clearing of the current output cell\n",
              "var outputEl = gd.closest('.output');\n",
              "if (outputEl) {{\n",
              "    x.observe(outputEl, {childList: true});\n",
              "}}\n",
              "\n",
              "                        })                };                            </script>        </div>\n",
              "</body>\n",
              "</html>"
            ]
          },
          "metadata": {}
        },
        {
          "output_type": "display_data",
          "data": {
            "text/plain": [
              "<Figure size 1000x1000 with 4 Axes>"
            ],
            "image/png": "[encoded data removed]"
          },
          "metadata": {}
        }
      ]
    },
    {
      "cell_type": "code",
      "source": [
        "import pandas as pd\n",
        "import matplotlib.pyplot as plt\n",
        "\n",
        "# Load the Iris dataset into a pandas DataFrame\n",
        "url = 'https://archive.ics.uci.edu/ml/machine-learning-databases/iris/iris.data'\n",
        "df = pd.read_csv(url, header=None, names=['sepal_length', 'sepal_width', 'petal_length', 'petal_width', 'species'])\n",
        "\n",
        "# List down the features and their types\n",
        "print(df.dtypes)\n",
        "\n",
        "# Create a histogram for each feature in the dataset\n",
        "df.hist()\n",
        "plt.show()\n",
        "\n",
        "# Create a boxplot for each feature in the dataset\n",
        "df.boxplot()\n",
        "plt.show()\n",
        "\n",
        "# Compare distributions and identify outliers\n",
        "# You can visually inspect the histograms and boxplots to compare the distributions and identify outliers.\n",
        "# Alternatively, you can use statistical methods to identify outliers, such as the z-score or interquartile range (IQR).\n",
        "# For example, to identify outliers in the sepal_length column using the IQR method:\n",
        "Q1 = df['sepal_length'].quantile(0.25)\n",
        "Q3 = df['sepal_length'].quantile(0.75)\n",
        "IQR = Q3 - Q1\n",
        "lower_bound = Q1 - 1.5 * IQR\n",
        "upper_bound = Q3 + 1.5 * IQR\n",
        "outliers = df[(df['sepal_length'] < lower_bound) | (df['sepal_length'] > upper_bound)]\n",
        "print(outliers)\n"
      ],
      "metadata": {
        "colab": {
          "base_uri": "https://localhost:8080/",
          "height": 1000
        },
        "id": "9nfBnCa3iR3j",
        "outputId": "ed3609d5-088c-408a-f97c-9e308085e880"
      },
      "execution_count": 54,
      "outputs": [
        {
          "output_type": "stream",
          "name": "stdout",
          "text": [
            "sepal_length    float64\n",
            "sepal_width     float64\n",
            "petal_length    float64\n",
            "petal_width     float64\n",
            "species          object\n",
            "dtype: object\n"
          ]
        },
        {
          "output_type": "display_data",
          "data": {
            "text/plain": [
              "<Figure size 640x480 with 4 Axes>"
            ],
            "image/png": "[encoded data removed]"
          },
          "metadata": {}
        },
        {
          "output_type": "display_data",
          "data": {
            "text/plain": [
              "<Figure size 640x480 with 1 Axes>"
            ],
            "image/png": "[encoded data removed]"
          },
          "metadata": {}
        },
        {
          "output_type": "stream",
          "name": "stdout",
          "text": [
            "Empty DataFrame\n",
            "Columns: [sepal_length, sepal_width, petal_length, petal_width, species]\n",
            "Index: []\n"
          ]
        }
      ]
    },
    {
      "cell_type": "markdown",
      "source": [
        "# 1.Create databases and tables, insert small amounts of data, and run simple queries using Impala"
      ],
      "metadata": {
        "id": "jC6VsQpWjETH"
      }
    },
    {
      "cell_type": "code",
      "source": [],
      "metadata": {
        "id": "diF5Tx5FkDyS"
      },
      "execution_count": null,
      "outputs": []
    }
  ]
}